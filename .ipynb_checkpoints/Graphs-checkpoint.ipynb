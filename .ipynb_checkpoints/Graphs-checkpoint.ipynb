{
 "cells": [
  {
   "cell_type": "code",
   "execution_count": 1,
   "metadata": {
    "collapsed": true
   },
   "outputs": [],
   "source": [
    "from astropy.io import fits\n",
    "import numpy as np\n",
    "import matplotlib.pyplot as plt\n",
    "import os"
   ]
  },
  {
   "cell_type": "code",
   "execution_count": null,
   "metadata": {
    "collapsed": true
   },
   "outputs": [],
   "source": [
    "#opening and reading in the table data of the file\n",
    "hdulist = fits.open(\"Matched with Updated Servs and xID24\")\n",
    "#hdulist.info()\n",
    "tbdata = hdulist[1].data"
   ]
  },
  {
   "cell_type": "code",
   "execution_count": 18,
   "metadata": {
    "collapsed": true
   },
   "outputs": [],
   "source": [
    "#                       u       g       r       i       z       y       z      y      j      h      ks     3.6  4.5  24250  350  500\n",
    "wavelengths = np.array([0.3538, 0.4798, 0.6218, 0.7727, 0.8908, 0.9775, 0.877, 1.020, 1.252, 1.645, 2.147, 3.6, 4.5, 24, 250, 350, 500])"
   ]
  },
  {
   "cell_type": "code",
   "execution_count": null,
   "metadata": {
    "collapsed": true
   },
   "outputs": [],
   "source": [
    "\n",
    "for row in tbdata:\n",
    "    \n",
    "    #Comment out to produce graphs for matched AND unmatched. Uncommented produces graphs for matched only.\n",
    "    if (row[58] == 0):\n",
    "        continue\n",
    "    \n",
    "    \n",
    "    fluxes = np.array([row['F_U_CFHT'], row['F_G_HSC'], row['F_R_HSC'], row['F_I_HSC'], row['F_Z_HSC'], row['F_Y_HSC'], row['F_Z_VIDEO'], row['F_Y_VIDEO'], row['F_J_VIDEO'], row['F_H_VIDEO'], row['F_Ks_VIDEO'], row[\"F_CH1\"], row['F_CH2'], row['F24'], row['F250_uJy'], row['F350_uJy'], row['F500_uJy']])\n",
    "    #clean data no zero first\n",
    "    \n",
    "    gdpts = (fluxes > 0)\n",
    "    plt.scatter(wavelengths[gdpts], fluxes[gdpts], c='b')\n",
    "    plt.xlabel('Central Wavelength (microns)')\n",
    "    plt.ylabel('Flux (uJy)')\n",
    "    plt.yscale('log')\n",
    "    plt.xscale('log')\n",
    "    directory = \"graphs/\"\n",
    "    \n",
    "    if (row[58] == 1):\n",
    "        directory += \"matched/\"\n",
    "    else:\n",
    "        directory += \"unmatched/\"\n",
    "        \n",
    "    #code to take z_eazy into account\n",
    "    '''\n",
    "    if (row['z_eazy'] >= 0.4 or row['z_eazy'] < 0.45):\n",
    "        directory += \"0.4/\"\n",
    "    elif (row['z_eazy'] >= 0.45 or row['z_eazy'] < 0.5):\n",
    "        directory += \"0.45/\"\n",
    "    elif (row['z_eazy'] >= 0.5 or row['z_eazy'] < 0.55):\n",
    "        directory += \"0.5/\"\n",
    "    elif (row['z_eazy'] >= 0.55 or row['z_eazy'] < 0.6):\n",
    "        directory += \"0.55/\"\n",
    "    '''\n",
    "\n",
    "    if not os.path.exists(directory):\n",
    "        os.makedirs(directory)\n",
    "    \n",
    "    directory += row[0]\n",
    "\n",
    "    plt.savefig(directory)\n",
    "    \n",
    "    plt.clf()\n",
    "    "
   ]
  },
  {
   "cell_type": "code",
   "execution_count": null,
   "metadata": {
    "collapsed": true
   },
   "outputs": [],
   "source": []
  }
 ],
 "metadata": {
  "kernelspec": {
   "display_name": "Python 3",
   "language": "python",
   "name": "python3"
  },
  "language_info": {
   "codemirror_mode": {
    "name": "ipython",
    "version": 3
   },
   "file_extension": ".py",
   "mimetype": "text/x-python",
   "name": "python",
   "nbconvert_exporter": "python",
   "pygments_lexer": "ipython3",
   "version": "3.6.2"
  }
 },
 "nbformat": 4,
 "nbformat_minor": 2
}
